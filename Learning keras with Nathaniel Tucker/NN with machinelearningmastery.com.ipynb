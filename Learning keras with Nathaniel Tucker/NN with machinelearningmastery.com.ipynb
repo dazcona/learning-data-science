{
 "cells": [
  {
   "cell_type": "markdown",
   "metadata": {},
   "source": [
    "# First neural network with machinelearningmastery.com\n",
    "\n",
    "https://machinelearningmastery.com/tutorial-first-neural-network-python-keras/"
   ]
  },
  {
   "cell_type": "code",
   "execution_count": null,
   "metadata": {
    "collapsed": true
   },
   "outputs": [],
   "source": [
    "import keras\n",
    "import numpy as np"
   ]
  },
  {
   "cell_type": "markdown",
   "metadata": {},
   "source": [
    "## 1. Load data\n",
    "\n",
    "There are eight input variables and one output variable (the last column). Once loaded we can split the dataset into input variables (X) and the output class variable (Y)."
   ]
  },
  {
   "cell_type": "code",
   "execution_count": 5,
   "metadata": {},
   "outputs": [],
   "source": [
    "from keras.models import Sequential\n",
    "from keras.layers import Dense"
   ]
  },
  {
   "cell_type": "code",
   "execution_count": 6,
   "metadata": {
    "collapsed": true
   },
   "outputs": [],
   "source": [
    "# fix random seed for reproducibility\n",
    "np.random.seed(8)"
   ]
  },
  {
   "cell_type": "markdown",
   "metadata": {},
   "source": [
    "We have initialized our random number generator to ensure our results are reproducible and loaded our data. We are now ready to define our neural network model."
   ]
  },
  {
   "cell_type": "code",
   "execution_count": 10,
   "metadata": {},
   "outputs": [],
   "source": [
    "# load pima indians dataset\n",
    "dataset = np.loadtxt(\"data/pima-indians-diabetes.csv\", delimiter=\",\")"
   ]
  },
  {
   "cell_type": "code",
   "execution_count": 11,
   "metadata": {
    "collapsed": true
   },
   "outputs": [],
   "source": [
    "# split into input (X) and output (Y) variables\n",
    "X = dataset[:,0:8]\n",
    "Y = dataset[:,8]"
   ]
  },
  {
   "cell_type": "markdown",
   "metadata": {},
   "source": [
    "## 2. Define Model\n",
    "\n",
    "Models in Keras are defined as a sequence of layers.\n",
    "\n",
    "We create a Sequential model and add layers one at a time until we are happy with our network topology.\n",
    "\n",
    "The first thing to get right is to ensure the input layer has the right number of inputs. This can be specified when creating the first layer with the input_dim argument and setting it to 8 for the 8 input variables.\n",
    "\n",
    "How do we know the number of layers and their types?\n",
    "\n",
    "This is a very hard question. There are heuristics that we can use and often the best network structure is found through a process of trial and error experimentation. Generally, you need a network large enough to capture the structure of the problem if that helps at all.\n",
    "\n",
    "In this example, we will use a fully-connected network structure with three layers.\n",
    "\n",
    "Fully connected layers are defined using the Dense class. We can specify the number of neurons in the layer as the first argument, the initialization method as the second argument as init and specify the activation function using the activation argument.\n",
    "\n",
    "In this case, we initialize the network weights to a small random number generated from a uniform distribution (‘uniform‘), in this case between 0 and 0.05 because that is the default uniform weight initialization in Keras. Another traditional alternative would be ‘normal’ for small random numbers generated from a Gaussian distribution.\n",
    "\n",
    "We will use the rectifier (‘relu‘) activation function on the first two layers and the sigmoid function in the output layer. It used to be the case that sigmoid and tanh activation functions were preferred for all layers. These days, better performance is achieved using the rectifier activation function. We use a sigmoid on the output layer to ensure our network output is between 0 and 1 and easy to map to either a probability of class 1 or snap to a hard classification of either class with a default threshold of 0.5.\n",
    "\n",
    "We can piece it all together by adding each layer. The first layer has 12 neurons and expects 8 input variables. The second hidden layer has 8 neurons and finally, the output layer has 1 neuron to predict the class (onset of diabetes or not)."
   ]
  },
  {
   "cell_type": "code",
   "execution_count": 12,
   "metadata": {
    "collapsed": true
   },
   "outputs": [],
   "source": [
    "# create model\n",
    "model = Sequential()\n",
    "model.add(Dense(12, input_dim=8, activation='relu'))\n",
    "model.add(Dense(8, activation='relu'))\n",
    "model.add(Dense(1, activation='sigmoid'))"
   ]
  },
  {
   "cell_type": "code",
   "execution_count": 13,
   "metadata": {},
   "outputs": [
    {
     "data": {
      "text/plain": [
       "<keras.models.Sequential at 0x18153669d0>"
      ]
     },
     "execution_count": 13,
     "metadata": {},
     "output_type": "execute_result"
    }
   ],
   "source": [
    "model"
   ]
  },
  {
   "cell_type": "markdown",
   "metadata": {},
   "source": [
    "## 3. Compile Model\n",
    "\n",
    "Now that the model is defined, we can compile it.\n",
    "\n",
    "Compiling the model uses the efficient numerical libraries under the covers (the so-called backend) such as Theano or TensorFlow. The backend automatically chooses the best way to represent the network for training and making predictions to run on your hardware, such as CPU or GPU or even distributed.\n",
    "\n",
    "When compiling, we must specify some additional properties required when training the network. Remember training a network means finding the best set of weights to make predictions for this problem.\n",
    "\n",
    "We must specify the loss function to use to evaluate a set of weights, the optimizer used to search through different weights for the network and any optional metrics we would like to collect and report during training.\n",
    "\n",
    "In this case, we will use logarithmic loss, which for a binary classification problem is defined in Keras as “binary_crossentropy“. We will also use the efficient gradient descent algorithm “adam” for no other reason that it is an efficient default. Learn more about the Adam optimization algorithm in the paper “Adam: A Method for Stochastic Optimization“.\n",
    "\n",
    "Finally, because it is a classification problem, we will collect and report the classification accuracy as the metric."
   ]
  },
  {
   "cell_type": "code",
   "execution_count": 14,
   "metadata": {
    "collapsed": true
   },
   "outputs": [],
   "source": [
    "# Compile model\n",
    "model.compile(loss='binary_crossentropy', optimizer='adam', metrics=['accuracy'])"
   ]
  },
  {
   "cell_type": "markdown",
   "metadata": {},
   "source": [
    "## 4. Fit Model\n",
    "\n",
    "We have defined our model and compiled it ready for efficient computation.\n",
    "\n",
    "Now it is time to execute the model on some data.\n",
    "\n",
    "We can train or fit our model on our loaded data by calling the fit() function on the model.\n",
    "\n",
    "The training process will run for a fixed number of iterations through the dataset called epochs, that we must specify using the nepochs argument. We can also set the number of instances that are evaluated before a weight update in the network is performed, called the batch size and set using the batch_size argument.\n",
    "\n",
    "For this problem, we will run for a small number of iterations (150) and use a relatively small batch size of 10. Again, these can be chosen experimentally by trial and error.\n",
    "\n",
    "This is where the work happens on your CPU or GPU."
   ]
  },
  {
   "cell_type": "code",
   "execution_count": 16,
   "metadata": {
    "scrolled": true
   },
   "outputs": [
    {
     "name": "stdout",
     "output_type": "stream",
     "text": [
      "Epoch 1/150\n",
      "768/768 [==============================] - 2s 2ms/step - loss: 7.8438 - acc: 0.3581\n",
      "Epoch 2/150\n",
      "768/768 [==============================] - 0s 323us/step - loss: 0.8562 - acc: 0.5742\n",
      "Epoch 3/150\n",
      "768/768 [==============================] - 0s 443us/step - loss: 0.7441 - acc: 0.6146\n",
      "Epoch 4/150\n",
      "768/768 [==============================] - 0s 369us/step - loss: 0.7042 - acc: 0.6094\n",
      "Epoch 5/150\n",
      "768/768 [==============================] - 0s 352us/step - loss: 0.6851 - acc: 0.6159\n",
      "Epoch 6/150\n",
      "768/768 [==============================] - 0s 317us/step - loss: 0.6644 - acc: 0.6367\n",
      "Epoch 7/150\n",
      "768/768 [==============================] - 0s 403us/step - loss: 0.6720 - acc: 0.6302\n",
      "Epoch 8/150\n",
      "768/768 [==============================] - 0s 476us/step - loss: 0.6606 - acc: 0.6341\n",
      "Epoch 9/150\n",
      "768/768 [==============================] - 0s 381us/step - loss: 0.6487 - acc: 0.6406\n",
      "Epoch 10/150\n",
      "768/768 [==============================] - 0s 411us/step - loss: 0.6435 - acc: 0.6445\n",
      "Epoch 11/150\n",
      "768/768 [==============================] - 0s 335us/step - loss: 0.6494 - acc: 0.6432\n",
      "Epoch 12/150\n",
      "768/768 [==============================] - 0s 357us/step - loss: 0.6454 - acc: 0.6471\n",
      "Epoch 13/150\n",
      "768/768 [==============================] - 0s 356us/step - loss: 0.6361 - acc: 0.6536\n",
      "Epoch 14/150\n",
      "768/768 [==============================] - 0s 328us/step - loss: 0.6307 - acc: 0.6523\n",
      "Epoch 15/150\n",
      "768/768 [==============================] - 0s 408us/step - loss: 0.6263 - acc: 0.6641\n",
      "Epoch 16/150\n",
      "768/768 [==============================] - 0s 413us/step - loss: 0.6216 - acc: 0.6576\n",
      "Epoch 17/150\n",
      "768/768 [==============================] - 0s 386us/step - loss: 0.6214 - acc: 0.6536\n",
      "Epoch 18/150\n",
      "768/768 [==============================] - 0s 388us/step - loss: 0.6191 - acc: 0.6536\n",
      "Epoch 19/150\n",
      "768/768 [==============================] - 0s 341us/step - loss: 0.6152 - acc: 0.6576\n",
      "Epoch 20/150\n",
      "768/768 [==============================] - 0s 370us/step - loss: 0.6150 - acc: 0.6602\n",
      "Epoch 21/150\n",
      "768/768 [==============================] - 0s 400us/step - loss: 0.6127 - acc: 0.6667\n",
      "Epoch 22/150\n",
      "768/768 [==============================] - 0s 338us/step - loss: 0.6210 - acc: 0.6654\n",
      "Epoch 23/150\n",
      "768/768 [==============================] - 0s 442us/step - loss: 0.6122 - acc: 0.6693\n",
      "Epoch 24/150\n",
      "768/768 [==============================] - 0s 389us/step - loss: 0.6056 - acc: 0.6823 0s - loss: 0.5952 - acc: 0.\n",
      "Epoch 25/150\n",
      "768/768 [==============================] - 0s 380us/step - loss: 0.6071 - acc: 0.6667\n",
      "Epoch 26/150\n",
      "768/768 [==============================] - 0s 366us/step - loss: 0.6060 - acc: 0.6771\n",
      "Epoch 27/150\n",
      "768/768 [==============================] - 0s 338us/step - loss: 0.6047 - acc: 0.6706\n",
      "Epoch 28/150\n",
      "768/768 [==============================] - 0s 371us/step - loss: 0.6033 - acc: 0.6758\n",
      "Epoch 29/150\n",
      "768/768 [==============================] - 0s 376us/step - loss: 0.6024 - acc: 0.6628\n",
      "Epoch 30/150\n",
      "768/768 [==============================] - 0s 333us/step - loss: 0.5912 - acc: 0.6979\n",
      "Epoch 31/150\n",
      "768/768 [==============================] - 0s 431us/step - loss: 0.5972 - acc: 0.6875\n",
      "Epoch 32/150\n",
      "768/768 [==============================] - 0s 360us/step - loss: 0.5806 - acc: 0.6849\n",
      "Epoch 33/150\n",
      "768/768 [==============================] - 0s 334us/step - loss: 0.5839 - acc: 0.7057\n",
      "Epoch 34/150\n",
      "768/768 [==============================] - 0s 313us/step - loss: 0.5821 - acc: 0.7005\n",
      "Epoch 35/150\n",
      "768/768 [==============================] - 0s 392us/step - loss: 0.5802 - acc: 0.7018\n",
      "Epoch 36/150\n",
      "768/768 [==============================] - 0s 389us/step - loss: 0.5704 - acc: 0.7018\n",
      "Epoch 37/150\n",
      "768/768 [==============================] - 0s 427us/step - loss: 0.5748 - acc: 0.7070\n",
      "Epoch 38/150\n",
      "768/768 [==============================] - 0s 366us/step - loss: 0.5833 - acc: 0.7031\n",
      "Epoch 39/150\n",
      "768/768 [==============================] - 0s 340us/step - loss: 0.5716 - acc: 0.7122\n",
      "Epoch 40/150\n",
      "768/768 [==============================] - 0s 358us/step - loss: 0.5705 - acc: 0.7109\n",
      "Epoch 41/150\n",
      "768/768 [==============================] - 0s 364us/step - loss: 0.5726 - acc: 0.7122\n",
      "Epoch 42/150\n",
      "768/768 [==============================] - 0s 374us/step - loss: 0.5659 - acc: 0.7122\n",
      "Epoch 43/150\n",
      "768/768 [==============================] - 0s 358us/step - loss: 0.5659 - acc: 0.7201\n",
      "Epoch 44/150\n",
      "768/768 [==============================] - 0s 360us/step - loss: 0.5655 - acc: 0.7135\n",
      "Epoch 45/150\n",
      "768/768 [==============================] - 0s 385us/step - loss: 0.5568 - acc: 0.7148\n",
      "Epoch 46/150\n",
      "768/768 [==============================] - 0s 321us/step - loss: 0.5603 - acc: 0.7148\n",
      "Epoch 47/150\n",
      "768/768 [==============================] - 0s 382us/step - loss: 0.5778 - acc: 0.7161\n",
      "Epoch 48/150\n",
      "768/768 [==============================] - 0s 370us/step - loss: 0.5694 - acc: 0.7148\n",
      "Epoch 49/150\n",
      "768/768 [==============================] - 0s 369us/step - loss: 0.5620 - acc: 0.7122\n",
      "Epoch 50/150\n",
      "768/768 [==============================] - 0s 375us/step - loss: 0.5620 - acc: 0.7122\n",
      "Epoch 51/150\n",
      "768/768 [==============================] - 0s 382us/step - loss: 0.5573 - acc: 0.7122\n",
      "Epoch 52/150\n",
      "768/768 [==============================] - 0s 386us/step - loss: 0.5583 - acc: 0.7122\n",
      "Epoch 53/150\n",
      "768/768 [==============================] - 0s 357us/step - loss: 0.5586 - acc: 0.7122\n",
      "Epoch 54/150\n",
      "768/768 [==============================] - 0s 334us/step - loss: 0.5561 - acc: 0.7240\n",
      "Epoch 55/150\n",
      "768/768 [==============================] - 0s 322us/step - loss: 0.5516 - acc: 0.7122\n",
      "Epoch 56/150\n",
      "768/768 [==============================] - 0s 368us/step - loss: 0.5547 - acc: 0.7266\n",
      "Epoch 57/150\n",
      "768/768 [==============================] - 0s 353us/step - loss: 0.5530 - acc: 0.7214\n",
      "Epoch 58/150\n",
      "768/768 [==============================] - 0s 379us/step - loss: 0.5499 - acc: 0.7331\n",
      "Epoch 59/150\n",
      "768/768 [==============================] - 0s 360us/step - loss: 0.5530 - acc: 0.7227\n",
      "Epoch 60/150\n",
      "768/768 [==============================] - 0s 356us/step - loss: 0.5485 - acc: 0.7344\n",
      "Epoch 61/150\n",
      "768/768 [==============================] - 0s 380us/step - loss: 0.5540 - acc: 0.7083\n",
      "Epoch 62/150\n",
      "768/768 [==============================] - 0s 369us/step - loss: 0.5534 - acc: 0.7201\n",
      "Epoch 63/150\n",
      "768/768 [==============================] - 0s 333us/step - loss: 0.5483 - acc: 0.7201\n",
      "Epoch 64/150\n",
      "768/768 [==============================] - 0s 377us/step - loss: 0.5481 - acc: 0.7253\n",
      "Epoch 65/150\n",
      "768/768 [==============================] - 0s 379us/step - loss: 0.5474 - acc: 0.7174\n",
      "Epoch 66/150\n",
      "768/768 [==============================] - 0s 359us/step - loss: 0.5486 - acc: 0.7253\n",
      "Epoch 67/150\n",
      "768/768 [==============================] - 0s 421us/step - loss: 0.5455 - acc: 0.7253\n",
      "Epoch 68/150\n",
      "768/768 [==============================] - 0s 298us/step - loss: 0.5747 - acc: 0.6966\n",
      "Epoch 69/150\n",
      "768/768 [==============================] - 0s 310us/step - loss: 0.5546 - acc: 0.7227\n",
      "Epoch 70/150\n",
      "768/768 [==============================] - 0s 366us/step - loss: 0.5525 - acc: 0.7227\n",
      "Epoch 71/150\n",
      "768/768 [==============================] - 0s 405us/step - loss: 0.5460 - acc: 0.7279\n",
      "Epoch 72/150\n",
      "768/768 [==============================] - 0s 399us/step - loss: 0.5499 - acc: 0.7318\n",
      "Epoch 73/150\n",
      "768/768 [==============================] - 0s 283us/step - loss: 0.5403 - acc: 0.7318\n",
      "Epoch 74/150\n",
      "768/768 [==============================] - 0s 269us/step - loss: 0.5430 - acc: 0.7318\n",
      "Epoch 75/150\n",
      "768/768 [==============================] - 0s 279us/step - loss: 0.5493 - acc: 0.7305\n",
      "Epoch 76/150\n",
      "768/768 [==============================] - 0s 290us/step - loss: 0.5395 - acc: 0.7565\n",
      "Epoch 77/150\n",
      "768/768 [==============================] - 0s 339us/step - loss: 0.5397 - acc: 0.7396\n",
      "Epoch 78/150\n",
      "768/768 [==============================] - 0s 354us/step - loss: 0.5476 - acc: 0.7240\n",
      "Epoch 79/150\n",
      "768/768 [==============================] - 0s 282us/step - loss: 0.5372 - acc: 0.7357\n",
      "Epoch 80/150\n",
      "768/768 [==============================] - 0s 286us/step - loss: 0.5386 - acc: 0.7370\n",
      "Epoch 81/150\n",
      "768/768 [==============================] - 0s 286us/step - loss: 0.5498 - acc: 0.7214\n",
      "Epoch 82/150\n",
      "768/768 [==============================] - 0s 313us/step - loss: 0.5377 - acc: 0.7500\n",
      "Epoch 83/150\n"
     ]
    },
    {
     "name": "stdout",
     "output_type": "stream",
     "text": [
      "768/768 [==============================] - 0s 295us/step - loss: 0.5401 - acc: 0.7383\n",
      "Epoch 84/150\n",
      "768/768 [==============================] - 0s 290us/step - loss: 0.5386 - acc: 0.7370\n",
      "Epoch 85/150\n",
      "768/768 [==============================] - 0s 280us/step - loss: 0.5424 - acc: 0.7344\n",
      "Epoch 86/150\n",
      "768/768 [==============================] - 0s 263us/step - loss: 0.5411 - acc: 0.7292\n",
      "Epoch 87/150\n",
      "768/768 [==============================] - 0s 271us/step - loss: 0.5403 - acc: 0.7279\n",
      "Epoch 88/150\n",
      "768/768 [==============================] - 0s 257us/step - loss: 0.5371 - acc: 0.7331\n",
      "Epoch 89/150\n",
      "768/768 [==============================] - 0s 269us/step - loss: 0.5338 - acc: 0.7474\n",
      "Epoch 90/150\n",
      "768/768 [==============================] - 0s 301us/step - loss: 0.5302 - acc: 0.7422\n",
      "Epoch 91/150\n",
      "768/768 [==============================] - 0s 326us/step - loss: 0.5324 - acc: 0.7448\n",
      "Epoch 92/150\n",
      "768/768 [==============================] - 0s 286us/step - loss: 0.5249 - acc: 0.7422\n",
      "Epoch 93/150\n",
      "768/768 [==============================] - 0s 297us/step - loss: 0.5254 - acc: 0.7474\n",
      "Epoch 94/150\n",
      "768/768 [==============================] - 0s 283us/step - loss: 0.5289 - acc: 0.7500\n",
      "Epoch 95/150\n",
      "768/768 [==============================] - 0s 288us/step - loss: 0.5303 - acc: 0.7461\n",
      "Epoch 96/150\n",
      "768/768 [==============================] - 0s 290us/step - loss: 0.5358 - acc: 0.7344\n",
      "Epoch 97/150\n",
      "768/768 [==============================] - 0s 281us/step - loss: 0.5307 - acc: 0.7539\n",
      "Epoch 98/150\n",
      "768/768 [==============================] - 0s 274us/step - loss: 0.5242 - acc: 0.7578\n",
      "Epoch 99/150\n",
      "768/768 [==============================] - 0s 273us/step - loss: 0.5219 - acc: 0.7500\n",
      "Epoch 100/150\n",
      "768/768 [==============================] - 0s 256us/step - loss: 0.5217 - acc: 0.7682\n",
      "Epoch 101/150\n",
      "768/768 [==============================] - 0s 257us/step - loss: 0.5207 - acc: 0.7422\n",
      "Epoch 102/150\n",
      "768/768 [==============================] - 0s 301us/step - loss: 0.5210 - acc: 0.7682\n",
      "Epoch 103/150\n",
      "768/768 [==============================] - 0s 311us/step - loss: 0.5254 - acc: 0.7500\n",
      "Epoch 104/150\n",
      "768/768 [==============================] - 0s 319us/step - loss: 0.5325 - acc: 0.7552\n",
      "Epoch 105/150\n",
      "768/768 [==============================] - 0s 282us/step - loss: 0.5132 - acc: 0.7539\n",
      "Epoch 106/150\n",
      "768/768 [==============================] - 0s 295us/step - loss: 0.5148 - acc: 0.7513\n",
      "Epoch 107/150\n",
      "768/768 [==============================] - 0s 289us/step - loss: 0.5109 - acc: 0.7695\n",
      "Epoch 108/150\n",
      "768/768 [==============================] - 0s 284us/step - loss: 0.5123 - acc: 0.7721\n",
      "Epoch 109/150\n",
      "768/768 [==============================] - 0s 250us/step - loss: 0.5124 - acc: 0.7461\n",
      "Epoch 110/150\n",
      "768/768 [==============================] - 0s 277us/step - loss: 0.5081 - acc: 0.7630\n",
      "Epoch 111/150\n",
      "768/768 [==============================] - 0s 280us/step - loss: 0.5121 - acc: 0.7539\n",
      "Epoch 112/150\n",
      "768/768 [==============================] - 0s 277us/step - loss: 0.5089 - acc: 0.7747\n",
      "Epoch 113/150\n",
      "768/768 [==============================] - 0s 288us/step - loss: 0.5088 - acc: 0.7552\n",
      "Epoch 114/150\n",
      "768/768 [==============================] - 0s 293us/step - loss: 0.5083 - acc: 0.7591\n",
      "Epoch 115/150\n",
      "768/768 [==============================] - 0s 300us/step - loss: 0.5150 - acc: 0.7539\n",
      "Epoch 116/150\n",
      "768/768 [==============================] - 0s 337us/step - loss: 0.5087 - acc: 0.7552\n",
      "Epoch 117/150\n",
      "768/768 [==============================] - 0s 296us/step - loss: 0.5083 - acc: 0.7578\n",
      "Epoch 118/150\n",
      "768/768 [==============================] - 0s 375us/step - loss: 0.5154 - acc: 0.7552\n",
      "Epoch 119/150\n",
      "768/768 [==============================] - 0s 357us/step - loss: 0.5157 - acc: 0.7578\n",
      "Epoch 120/150\n",
      "768/768 [==============================] - 0s 349us/step - loss: 0.5087 - acc: 0.7630\n",
      "Epoch 121/150\n",
      "768/768 [==============================] - 0s 423us/step - loss: 0.5029 - acc: 0.7799\n",
      "Epoch 122/150\n",
      "768/768 [==============================] - 0s 346us/step - loss: 0.5016 - acc: 0.7695\n",
      "Epoch 123/150\n",
      "768/768 [==============================] - 0s 332us/step - loss: 0.5012 - acc: 0.7669\n",
      "Epoch 124/150\n",
      "768/768 [==============================] - 0s 368us/step - loss: 0.5016 - acc: 0.7682\n",
      "Epoch 125/150\n",
      "768/768 [==============================] - 0s 356us/step - loss: 0.5070 - acc: 0.7565 0s - loss: 0.4949 - acc: 0.76\n",
      "Epoch 126/150\n",
      "768/768 [==============================] - 0s 348us/step - loss: 0.5126 - acc: 0.7591\n",
      "Epoch 127/150\n",
      "768/768 [==============================] - 0s 281us/step - loss: 0.5049 - acc: 0.7682\n",
      "Epoch 128/150\n",
      "768/768 [==============================] - 0s 295us/step - loss: 0.5008 - acc: 0.7721\n",
      "Epoch 129/150\n",
      "768/768 [==============================] - 0s 346us/step - loss: 0.5113 - acc: 0.7539\n",
      "Epoch 130/150\n",
      "768/768 [==============================] - 0s 352us/step - loss: 0.4980 - acc: 0.7708\n",
      "Epoch 131/150\n",
      "768/768 [==============================] - 0s 293us/step - loss: 0.4972 - acc: 0.7630\n",
      "Epoch 132/150\n",
      "768/768 [==============================] - 0s 315us/step - loss: 0.5007 - acc: 0.7747\n",
      "Epoch 133/150\n",
      "768/768 [==============================] - 0s 290us/step - loss: 0.5039 - acc: 0.7578 0s - loss: 0.5491 - acc: 0.\n",
      "Epoch 134/150\n",
      "768/768 [==============================] - 0s 292us/step - loss: 0.4979 - acc: 0.7669\n",
      "Epoch 135/150\n",
      "768/768 [==============================] - 0s 271us/step - loss: 0.4962 - acc: 0.7617\n",
      "Epoch 136/150\n",
      "768/768 [==============================] - 0s 292us/step - loss: 0.5005 - acc: 0.7721\n",
      "Epoch 137/150\n",
      "768/768 [==============================] - 0s 271us/step - loss: 0.5014 - acc: 0.7760\n",
      "Epoch 138/150\n",
      "768/768 [==============================] - 0s 286us/step - loss: 0.4962 - acc: 0.7643\n",
      "Epoch 139/150\n",
      "768/768 [==============================] - 0s 257us/step - loss: 0.5014 - acc: 0.7604\n",
      "Epoch 140/150\n",
      "768/768 [==============================] - 0s 270us/step - loss: 0.5111 - acc: 0.7513\n",
      "Epoch 141/150\n",
      "768/768 [==============================] - 0s 295us/step - loss: 0.4968 - acc: 0.7656\n",
      "Epoch 142/150\n",
      "768/768 [==============================] - 0s 312us/step - loss: 0.4919 - acc: 0.7734\n",
      "Epoch 143/150\n",
      "768/768 [==============================] - 0s 310us/step - loss: 0.4933 - acc: 0.7721\n",
      "Epoch 144/150\n",
      "768/768 [==============================] - 0s 291us/step - loss: 0.4937 - acc: 0.7578\n",
      "Epoch 145/150\n",
      "768/768 [==============================] - 0s 299us/step - loss: 0.5008 - acc: 0.7656\n",
      "Epoch 146/150\n",
      "768/768 [==============================] - 0s 297us/step - loss: 0.4897 - acc: 0.7747\n",
      "Epoch 147/150\n",
      "768/768 [==============================] - 0s 290us/step - loss: 0.5028 - acc: 0.7773\n",
      "Epoch 148/150\n",
      "768/768 [==============================] - 0s 282us/step - loss: 0.4955 - acc: 0.7695\n",
      "Epoch 149/150\n",
      "768/768 [==============================] - 0s 294us/step - loss: 0.5104 - acc: 0.7539\n",
      "Epoch 150/150\n",
      "768/768 [==============================] - 0s 279us/step - loss: 0.4931 - acc: 0.7708\n"
     ]
    },
    {
     "data": {
      "text/plain": [
       "<keras.callbacks.History at 0x1815457e90>"
      ]
     },
     "execution_count": 16,
     "metadata": {},
     "output_type": "execute_result"
    }
   ],
   "source": [
    "# Fit the model\n",
    "model.fit(X, Y, epochs=150, batch_size=10)"
   ]
  },
  {
   "cell_type": "markdown",
   "metadata": {},
   "source": [
    "## 5. Evaluate Model\n",
    "\n",
    "We have trained our neural network on the entire dataset and we can evaluate the performance of the network on the same dataset.\n",
    "\n",
    "This will only give us an idea of how well we have modeled the dataset (e.g. train accuracy), but no idea of how well the algorithm might perform on new data. We have done this for simplicity, but ideally, you could separate your data into train and test datasets for training and evaluation of your model.\n",
    "\n",
    "You can evaluate your model on your training dataset using the evaluate() function on your model and pass it the same input and output used to train the model.\n",
    "\n",
    "This will generate a prediction for each input and output pair and collect scores, including the average loss and any metrics you have configured, such as accuracy."
   ]
  },
  {
   "cell_type": "code",
   "execution_count": 18,
   "metadata": {},
   "outputs": [
    {
     "name": "stdout",
     "output_type": "stream",
     "text": [
      "768/768 [==============================] - 0s 48us/step\n"
     ]
    }
   ],
   "source": [
    "# evaluate the model\n",
    "scores = model.evaluate(X, Y)"
   ]
  },
  {
   "cell_type": "code",
   "execution_count": 19,
   "metadata": {},
   "outputs": [
    {
     "data": {
      "text/plain": [
       "[0.4795212633907795, 0.77604166666666663]"
      ]
     },
     "execution_count": 19,
     "metadata": {},
     "output_type": "execute_result"
    }
   ],
   "source": [
    "scores"
   ]
  },
  {
   "cell_type": "code",
   "execution_count": 20,
   "metadata": {},
   "outputs": [
    {
     "name": "stdout",
     "output_type": "stream",
     "text": [
      "\n",
      "acc: 77.60%\n"
     ]
    }
   ],
   "source": [
    "print(\"\\n%s: %.2f%%\" % (model.metrics_names[1], scores[1]*100))"
   ]
  },
  {
   "cell_type": "markdown",
   "metadata": {},
   "source": [
    "## 6. Make predictions\n",
    "\n",
    "We can adapt the above example and use it to generate predictions on the training dataset, pretending it is a new dataset we have not seen before.\n",
    "\n",
    "Making predictions is as easy as calling model.predict(). We are using a sigmoid activation function on the output layer, so the predictions will be in the range between 0 and 1. We can easily convert them into a crisp binary prediction for this classification task by rounding them."
   ]
  },
  {
   "cell_type": "code",
   "execution_count": 21,
   "metadata": {
    "collapsed": true
   },
   "outputs": [],
   "source": [
    "# calculate predictions\n",
    "predictions = model.predict(X)"
   ]
  },
  {
   "cell_type": "code",
   "execution_count": 25,
   "metadata": {},
   "outputs": [],
   "source": [
    "# predictions"
   ]
  },
  {
   "cell_type": "code",
   "execution_count": 24,
   "metadata": {},
   "outputs": [],
   "source": [
    "# round predictions\n",
    "rounded = [round(x[0]) for x in predictions]\n",
    "# rounded"
   ]
  }
 ],
 "metadata": {
  "kernelspec": {
   "display_name": "Python 2",
   "language": "python",
   "name": "python2"
  },
  "language_info": {
   "codemirror_mode": {
    "name": "ipython",
    "version": 2
   },
   "file_extension": ".py",
   "mimetype": "text/x-python",
   "name": "python",
   "nbconvert_exporter": "python",
   "pygments_lexer": "ipython2",
   "version": "2.7.14"
  }
 },
 "nbformat": 4,
 "nbformat_minor": 2
}
