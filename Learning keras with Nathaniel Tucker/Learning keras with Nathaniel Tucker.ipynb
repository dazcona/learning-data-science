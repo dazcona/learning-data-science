{
 "cells": [
  {
   "cell_type": "markdown",
   "metadata": {},
   "source": [
    "# Learning keras with Nathaniel Tucker"
   ]
  },
  {
   "cell_type": "markdown",
   "metadata": {},
   "source": [
    "Notebook dedicated to follow the awesome serie of keras videos created by Nathaniel Tucker.\n",
    "\n",
    "Tucker's Youtube channel: https://www.youtube.com/channel/UCQTQ0AbOupKNxKKY-_x46OQ\n",
    "\n",
    "Tucker's Github repo: https://github.com/knathanieltucker/a-bit-of-deep-learning-and-keras/\n",
    "\n",
    "I can't thank him enough for his videos and his reponses to my questions on them. This material is just me running his notebooks."
   ]
  },
  {
   "cell_type": "code",
   "execution_count": 6,
   "metadata": {},
   "outputs": [
    {
     "name": "stdout",
     "output_type": "stream",
     "text": [
      "Populating the interactive namespace from numpy and matplotlib\n"
     ]
    }
   ],
   "source": [
    "%pylab inline"
   ]
  },
  {
   "cell_type": "markdown",
   "metadata": {},
   "source": [
    "Import libraries:"
   ]
  },
  {
   "cell_type": "code",
   "execution_count": 3,
   "metadata": {
    "collapsed": true
   },
   "outputs": [],
   "source": [
    "import tensorflow as tf"
   ]
  },
  {
   "cell_type": "code",
   "execution_count": 8,
   "metadata": {
    "collapsed": true
   },
   "outputs": [],
   "source": [
    "tf.keras?"
   ]
  },
  {
   "cell_type": "markdown",
   "metadata": {},
   "source": [
    "# 1. Introduction and Installation\n",
    "\n",
    "## Keras: Deep Learning library for Theano and TensorFlow"
   ]
  },
  {
   "cell_type": "markdown",
   "metadata": {},
   "source": [
    "Keras is a high-level neural networks API, written in Python and capable of running on top of either TensorFlow or Theano. It was developed with a focus on enabling fast experimentation. Being able to go from idea to result with the least possible delay is key to doing good research.\n",
    "\n",
    "Use Keras if you need a deep learning library that:\n",
    "\n",
    "- Allows for easy and fast prototyping (through user friendliness, modularity, and extensibility).\n",
    "- Supports both convolutional networks and recurrent networks, as well as combinations of the two.\n",
    "- Runs seamlessly on CPU and GPU.\n",
    "\n",
    "### Guiding principles\n",
    "\n",
    "- User friendliness. Keras is an API designed for human beings, not machines. It puts user experience front and center. Keras follows best practices for reducing cognitive load: it offers consistent & simple APIs, it minimizes the number of user actions required for common use cases, and it provides clear and actionable feedback upon user error.\n",
    "- Modularity. A model is understood as a sequence or a graph of standalone, fully-configurable modules that can be plugged together with as little restrictions as possible. In particular, neural layers, cost functions, optimizers, initialization schemes, activation functions, regularization schemes are all standalone modules that you can combine to create new models.\n",
    "- Easy extensibility. New modules are simple to add (as new classes and functions), and existing modules provide ample examples. To be able to easily create new modules allows for total expressiveness, making Keras suitable for advanced research.\n",
    "- Work with Python. No separate models configuration files in a declarative format. Models are described in Python code, which is compact, easier to debug, and allows for ease of extensibility.\n",
    "\n",
    "\n",
    "### Getting started\n",
    "\n",
    "The core data structure of Keras is a model, a way to organize layers. The simplest type of model is the Sequential model, a linear stack of layers. For more complex architectures, you should use the Keras functional API, which allows to build arbitrary graphs of layers.\n",
    "\n",
    "We will only very breifly touch on the Sequential model because the functional model is much more expressive and frankly easier to use."
   ]
  },
  {
   "cell_type": "code",
   "execution_count": 9,
   "metadata": {},
   "outputs": [
    {
     "name": "stderr",
     "output_type": "stream",
     "text": [
      "Using TensorFlow backend.\n"
     ]
    }
   ],
   "source": [
    "from keras.models import Sequential\n",
    "\n",
    "model = Sequential()"
   ]
  },
  {
   "cell_type": "code",
   "execution_count": 10,
   "metadata": {},
   "outputs": [
    {
     "name": "stdout",
     "output_type": "stream",
     "text": [
      "Downloading data from https://s3.amazonaws.com/keras-datasets/boston_housing.npz\n",
      "57344/57026 [==============================] - 0s 2us/step\n",
      "65536/57026 [==================================] - 0s 2us/step\n"
     ]
    }
   ],
   "source": [
    "# quickly grab the data\n",
    "from keras.datasets import boston_housing\n",
    "\n",
    "(x_train, y_train), (x_test, y_test) = boston_housing.load_data()"
   ]
  },
  {
   "cell_type": "code",
   "execution_count": 13,
   "metadata": {},
   "outputs": [
    {
     "data": {
      "text/plain": [
       "((404, 13), (404,))"
      ]
     },
     "execution_count": 13,
     "metadata": {},
     "output_type": "execute_result"
    }
   ],
   "source": [
    "x_train.shape, y_train.shape"
   ]
  },
  {
   "cell_type": "markdown",
   "metadata": {},
   "source": [
    "404 samples with 13 dimensions"
   ]
  },
  {
   "cell_type": "code",
   "execution_count": 14,
   "metadata": {},
   "outputs": [
    {
     "data": {
      "text/plain": [
       "((102, 13), (102,))"
      ]
     },
     "execution_count": 14,
     "metadata": {},
     "output_type": "execute_result"
    }
   ],
   "source": [
    "x_test.shape, y_test.shape"
   ]
  },
  {
   "cell_type": "markdown",
   "metadata": {},
   "source": [
    "Construct your model with a couple of layers:"
   ]
  },
  {
   "cell_type": "code",
   "execution_count": 15,
   "metadata": {
    "collapsed": true
   },
   "outputs": [],
   "source": [
    "from keras.layers import Dense\n",
    "\n",
    "model.add(Dense(13, input_dim=13, kernel_initializer='normal', activation='relu'))\n",
    "model.add(Dense(1, kernel_initializer='normal'))"
   ]
  },
  {
   "cell_type": "markdown",
   "metadata": {},
   "source": [
    "Once the model is created, you will need to compile it (and specify some opitonal params):"
   ]
  },
  {
   "cell_type": "code",
   "execution_count": 16,
   "metadata": {
    "collapsed": true
   },
   "outputs": [],
   "source": [
    "model.compile(loss='mean_squared_error', \n",
    "              optimizer='adam',\n",
    "              metrics=['mean_absolute_percentage_error'])"
   ]
  },
  {
   "cell_type": "markdown",
   "metadata": {},
   "source": [
    "You fit your model:"
   ]
  },
  {
   "cell_type": "code",
   "execution_count": 22,
   "metadata": {},
   "outputs": [
    {
     "name": "stdout",
     "output_type": "stream",
     "text": [
      "Epoch 1/20\n",
      "404/404 [==============================] - 0s 11us/step - loss: 173.9312 - mean_absolute_percentage_error: 44.8552\n",
      "Epoch 2/20\n",
      "404/404 [==============================] - 0s 7us/step - loss: 164.6236 - mean_absolute_percentage_error: 44.1456\n",
      "Epoch 3/20\n",
      "404/404 [==============================] - 0s 7us/step - loss: 156.3709 - mean_absolute_percentage_error: 43.6080\n",
      "Epoch 4/20\n",
      "404/404 [==============================] - 0s 7us/step - loss: 149.1620 - mean_absolute_percentage_error: 43.2081\n",
      "Epoch 5/20\n",
      "404/404 [==============================] - 0s 11us/step - loss: 142.9950 - mean_absolute_percentage_error: 43.0268\n",
      "Epoch 6/20\n",
      "404/404 [==============================] - 0s 9us/step - loss: 137.8471 - mean_absolute_percentage_error: 43.1045\n",
      "Epoch 7/20\n",
      "404/404 [==============================] - 0s 5us/step - loss: 133.6082 - mean_absolute_percentage_error: 43.2856\n",
      "Epoch 8/20\n",
      "404/404 [==============================] - 0s 10us/step - loss: 130.2039 - mean_absolute_percentage_error: 43.5497\n",
      "Epoch 9/20\n",
      "404/404 [==============================] - 0s 11us/step - loss: 127.5496 - mean_absolute_percentage_error: 43.9216\n",
      "Epoch 10/20\n",
      "404/404 [==============================] - 0s 7us/step - loss: 125.5404 - mean_absolute_percentage_error: 44.3604\n",
      "Epoch 11/20\n",
      "404/404 [==============================] - 0s 16us/step - loss: 124.1100 - mean_absolute_percentage_error: 44.8329\n",
      "Epoch 12/20\n",
      "404/404 [==============================] - 0s 8us/step - loss: 123.1079 - mean_absolute_percentage_error: 45.2711\n",
      "Epoch 13/20\n",
      "404/404 [==============================] - 0s 8us/step - loss: 122.4204 - mean_absolute_percentage_error: 45.7267\n",
      "Epoch 14/20\n",
      "404/404 [==============================] - 0s 8us/step - loss: 121.9250 - mean_absolute_percentage_error: 46.1489\n",
      "Epoch 15/20\n",
      "404/404 [==============================] - 0s 8us/step - loss: 121.5194 - mean_absolute_percentage_error: 46.5337\n",
      "Epoch 16/20\n",
      "404/404 [==============================] - 0s 8us/step - loss: 121.1067 - mean_absolute_percentage_error: 46.8253\n",
      "Epoch 17/20\n",
      "404/404 [==============================] - 0s 5us/step - loss: 120.6100 - mean_absolute_percentage_error: 47.0111\n",
      "Epoch 18/20\n",
      "404/404 [==============================] - 0s 7us/step - loss: 119.9812 - mean_absolute_percentage_error: 47.0935\n",
      "Epoch 19/20\n",
      "404/404 [==============================] - 0s 5us/step - loss: 119.1862 - mean_absolute_percentage_error: 47.0645\n",
      "Epoch 20/20\n",
      "404/404 [==============================] - 0s 11us/step - loss: 118.2118 - mean_absolute_percentage_error: 46.9235\n"
     ]
    },
    {
     "data": {
      "text/plain": [
       "<keras.callbacks.History at 0x1a182f00d0>"
      ]
     },
     "execution_count": 22,
     "metadata": {},
     "output_type": "execute_result"
    }
   ],
   "source": [
    "# x_train and y_train are Numpy arrays --just like in the Scikit-Learn API.\n",
    "model.fit(x_train, y_train, epochs=20, batch_size=404)"
   ]
  },
  {
   "cell_type": "markdown",
   "metadata": {},
   "source": [
    "As you fit your model, the loss goes down i.e. you are better able to predict what's gonna happen"
   ]
  },
  {
   "cell_type": "markdown",
   "metadata": {},
   "source": [
    "We can easily check by evaluating on the test set:"
   ]
  },
  {
   "cell_type": "code",
   "execution_count": 23,
   "metadata": {},
   "outputs": [
    {
     "name": "stdout",
     "output_type": "stream",
     "text": [
      "\r",
      "102/102 [==============================] - 0s 18us/step\n"
     ]
    }
   ],
   "source": [
    "loss_and_metrics = model.evaluate(x_test, y_test, batch_size=128)"
   ]
  },
  {
   "cell_type": "code",
   "execution_count": 26,
   "metadata": {},
   "outputs": [
    {
     "data": {
      "text/plain": [
       "[137.73875427246094, 54.496906280517578]"
      ]
     },
     "execution_count": 26,
     "metadata": {},
     "output_type": "execute_result"
    }
   ],
   "source": [
    "loss_and_metrics"
   ]
  },
  {
   "cell_type": "markdown",
   "metadata": {},
   "source": [
    "In addition to this, you can always use your model to make predictions in the future:"
   ]
  },
  {
   "cell_type": "code",
   "execution_count": 24,
   "metadata": {
    "collapsed": true
   },
   "outputs": [],
   "source": [
    "prices = model.predict(x_test, batch_size=128)"
   ]
  },
  {
   "cell_type": "code",
   "execution_count": 25,
   "metadata": {},
   "outputs": [
    {
     "data": {
      "text/plain": [
       "array([[ 21.46040154],\n",
       "       [ 25.13182068],\n",
       "       [ 18.57298088],\n",
       "       [ 22.7492218 ],\n",
       "       [ 19.2775898 ]], dtype=float32)"
      ]
     },
     "execution_count": 25,
     "metadata": {},
     "output_type": "execute_result"
    }
   ],
   "source": [
    "prices[:5]"
   ]
  },
  {
   "cell_type": "code",
   "execution_count": null,
   "metadata": {
    "collapsed": true
   },
   "outputs": [],
   "source": []
  }
 ],
 "metadata": {
  "kernelspec": {
   "display_name": "Python 2",
   "language": "python",
   "name": "python2"
  },
  "language_info": {
   "codemirror_mode": {
    "name": "ipython",
    "version": 2
   },
   "file_extension": ".py",
   "mimetype": "text/x-python",
   "name": "python",
   "nbconvert_exporter": "python",
   "pygments_lexer": "ipython2",
   "version": "2.7.14"
  }
 },
 "nbformat": 4,
 "nbformat_minor": 2
}
