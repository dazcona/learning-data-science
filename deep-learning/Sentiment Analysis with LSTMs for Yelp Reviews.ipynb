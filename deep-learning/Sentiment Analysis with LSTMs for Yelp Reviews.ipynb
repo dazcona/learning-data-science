{
 "cells": [
  {
   "cell_type": "markdown",
   "metadata": {},
   "source": [
    "# LSTMs\n",
    "\n",
    "http://colah.github.io/posts/2015-08-Understanding-LSTMs/\n",
    "\n",
    "Yelp's dataset: https://www.yelp.com/dataset/download\n",
    "\n",
    "https://towardsdatascience.com/understanding-lstm-and-its-quick-implementation-in-keras-for-sentiment-analysis-af410fd85b47"
   ]
  },
  {
   "cell_type": "code",
   "execution_count": 1,
   "metadata": {
    "collapsed": true
   },
   "outputs": [],
   "source": [
    "import pandas as pd"
   ]
  },
  {
   "cell_type": "code",
   "execution_count": 2,
   "metadata": {
    "collapsed": true
   },
   "outputs": [],
   "source": [
    "filename = 'data/yelp_dataset/yelp_academic_dataset_review.json'"
   ]
  },
  {
   "cell_type": "code",
   "execution_count": 3,
   "metadata": {
    "collapsed": true
   },
   "outputs": [],
   "source": [
    "# !cat $filename"
   ]
  },
  {
   "cell_type": "code",
   "execution_count": 4,
   "metadata": {
    "collapsed": true
   },
   "outputs": [],
   "source": [
    "data = pd.read_json(filename, lines=True)"
   ]
  },
  {
   "cell_type": "code",
   "execution_count": 5,
   "metadata": {},
   "outputs": [
    {
     "data": {
      "text/plain": [
       "business_id                               iCQpiavjjPzJ5_3gPD5Ebg\n",
       "cool                                                           0\n",
       "date                                         2011-02-25 00:00:00\n",
       "funny                                                          0\n",
       "review_id                                 x7mDIiDB3jEiPGPHOmDzyw\n",
       "stars                                                          2\n",
       "text           The pizza was okay. Not the best I've had. I p...\n",
       "useful                                                         0\n",
       "user_id                                   msQe1u7Z_XuqjGoqhB0J5g\n",
       "Name: 0, dtype: object"
      ]
     },
     "execution_count": 5,
     "metadata": {},
     "output_type": "execute_result"
    }
   ],
   "source": [
    "data.iloc[0, :]"
   ]
  },
  {
   "cell_type": "code",
   "execution_count": 6,
   "metadata": {
    "collapsed": true
   },
   "outputs": [],
   "source": [
    "# Rating above 3 stars will be considered as positive and less than or equal to 3 as negative.\n",
    "data['sentiment'] = [1 if x > 3 else 0 for x in data['stars']]"
   ]
  },
  {
   "cell_type": "code",
   "execution_count": 7,
   "metadata": {},
   "outputs": [
    {
     "data": {
      "text/plain": [
       "1    3977837\n",
       "0    2019159\n",
       "Name: sentiment, dtype: int64"
      ]
     },
     "execution_count": 7,
     "metadata": {},
     "output_type": "execute_result"
    }
   ],
   "source": [
    "data['sentiment'].value_counts()"
   ]
  },
  {
   "cell_type": "code",
   "execution_count": 8,
   "metadata": {},
   "outputs": [
    {
     "data": {
      "text/plain": [
       "0    The pizza was okay. Not the best I've had. I p...\n",
       "1    I love this place! My fiance And I go here atl...\n",
       "2    Terrible. Dry corn bread. Rib tips were all fa...\n",
       "3    Back in 2005-2007 this place was my FAVORITE t...\n",
       "4    Delicious healthy food. The steak is amazing. ...\n",
       "Name: text, dtype: object"
      ]
     },
     "execution_count": 8,
     "metadata": {},
     "output_type": "execute_result"
    }
   ],
   "source": [
    "data['text'][:5]"
   ]
  },
  {
   "cell_type": "code",
   "execution_count": 9,
   "metadata": {
    "collapsed": true
   },
   "outputs": [],
   "source": [
    "example = data.iloc[0, :]['text']"
   ]
  },
  {
   "cell_type": "code",
   "execution_count": 10,
   "metadata": {},
   "outputs": [
    {
     "data": {
      "text/plain": [
       "u\"The pizza was okay. Not the best I've had. I prefer Biaggio's on Flamingo / Fort Apache. The chef there can make a MUCH better NY style pizza. The pizzeria @ Cosmo was over priced for the quality and lack of personality in the food. Biaggio's is a much better pick if youre going for italian - family owned, home made recipes, people that actually CARE if you like their food. You dont get that at a pizzeria in a casino. I dont care what you say...\""
      ]
     },
     "execution_count": 10,
     "metadata": {},
     "output_type": "execute_result"
    }
   ],
   "source": [
    "example"
   ]
  },
  {
   "cell_type": "code",
   "execution_count": 11,
   "metadata": {},
   "outputs": [
    {
     "data": {
      "text/plain": [
       "array([ u\"The pizza was okay. Not the best I've had. I prefer Biaggio's on Flamingo / Fort Apache. The chef there can make a MUCH better NY style pizza. The pizzeria @ Cosmo was over priced for the quality and lack of personality in the food. Biaggio's is a much better pick if youre going for italian - family owned, home made recipes, people that actually CARE if you like their food. You dont get that at a pizzeria in a casino. I dont care what you say...\",\n",
       "       u'I love this place! My fiance And I go here atleast once a week. The portions are huge! Food is amazing. I love their carne asada. They have great lunch specials... Leticia is super nice and cares about what you think of her restaurant. You have to try their cheese enchiladas too the sauce is different And amazing!!!',\n",
       "       u'Terrible. Dry corn bread. Rib tips were all fat and mushy and had no flavor. If you want bbq in this neighborhood go to john mulls roadkill grill. Trust me.',\n",
       "       ...,\n",
       "       u'Loved the location, the patio, the service, and especially thE HABANERO BACON BLOODY MARY!\\n\\nWe ordered the Tex-Mex pancakes which were delicious! And the Chicken Fried steak, which my bf thought was just OK; he left over half of it and he never does that.',\n",
       "       u\"I absolutely hate this place. I would give it zero stars if I could. I gave this place a second chance after a awful experience. It was for a bachelorette party, so it wasn't my choice. The food is awful and over priced. I am a food snob and do not hold back when I'm not happy (which is rare!!!) the chicken was dry the potato soup was as thick as cement. The last time I was here I had the chicken and waffle sandwich special. The waffle was hard and crumbly, the chicken was dry and thick. Our drinks weren't refilled and we weren't checked on. We were with a party of 20 WHICH SHOULD HAVE BEEN A BIT OF A PRIORITY. I spoke directly to a manager to get our issues straightened out. He was helpful this time, but was not last time. I will never come back again. So much for a second chance.\",\n",
       "       u\"The first and the last time I will go there. My mom and I used to go to the Sky Nails in Harrison City until a similar issue happened there... Mike was recommended to us by a friend. We both wanted to get our nails dipped, an adhesive is painted onto your nail and that your finger is either dipped into a fine powder or the powder is sprinkled over. We had both gotten it before. Mike told us that he likes to apply the dip powder with a brush because it stays on better. He talked it up like he was doing US a favor. Being that he is the professional, we believed him. It turns out that he used acrylic on our nails rather than dip powder. It is cheaper and quicker to do. He lied to us and over charged us. My nails were $55 and my moms were $45. Her and I both went to get our nails filled at different places yesterday and BOTH technicians asked us where we went prior because what he did was not good for our nails. Applying colored acrylic to the whole nail hinders a technician's ability to see the actual nail so there is no way to know if there is a problem like fungus. Not only did he lie to us and rip us off... I showed him a photo of what I wanted (which offended him because he said he knew what he was doing) my nails looked nothing like the picture! The shape wasn't even close to what I wanted!!! Below is a photo of what I wanted versus what I got.\"], dtype=object)"
      ]
     },
     "execution_count": 11,
     "metadata": {},
     "output_type": "execute_result"
    }
   ],
   "source": [
    "data['text'].values[:3]"
   ]
  },
  {
   "cell_type": "code",
   "execution_count": 12,
   "metadata": {},
   "outputs": [
    {
     "name": "stderr",
     "output_type": "stream",
     "text": [
      "Using TensorFlow backend.\n"
     ]
    }
   ],
   "source": [
    "from keras.preprocessing.sequence import pad_sequences\n",
    "from keras.preprocessing.text import Tokenizer"
   ]
  },
  {
   "cell_type": "code",
   "execution_count": null,
   "metadata": {
    "collapsed": true
   },
   "outputs": [],
   "source": [
    "NUM_WORDS = 2500"
   ]
  },
  {
   "cell_type": "code",
   "execution_count": 13,
   "metadata": {},
   "outputs": [
    {
     "name": "stderr",
     "output_type": "stream",
     "text": [
      "/anaconda2/lib/python2.7/site-packages/keras/preprocessing/text.py:145: UserWarning: The `nb_words` argument in `Tokenizer` has been renamed `num_words`.\n",
      "  warnings.warn('The `nb_words` argument in `Tokenizer` '\n"
     ]
    }
   ],
   "source": [
    "tokenizer = Tokenizer(num_words=NUM_WORDS, \n",
    "                      lower=True, \n",
    "                      split=' ')"
   ]
  },
  {
   "cell_type": "code",
   "execution_count": null,
   "metadata": {
    "collapsed": true
   },
   "outputs": [],
   "source": [
    "tokenizer.fit_on_texts(data['text'].values)"
   ]
  },
  {
   "cell_type": "code",
   "execution_count": 16,
   "metadata": {},
   "outputs": [
    {
     "data": {
      "text/plain": [
       "204"
      ]
     },
     "execution_count": 16,
     "metadata": {},
     "output_type": "execute_result"
    }
   ],
   "source": [
    "# Dictionary\n",
    "tokenizer.word_index['awesome']"
   ]
  },
  {
   "cell_type": "code",
   "execution_count": 17,
   "metadata": {
    "collapsed": true
   },
   "outputs": [],
   "source": [
    "X = tokenizer.texts_to_sequences(data['text'].values)"
   ]
  },
  {
   "cell_type": "code",
   "execution_count": 23,
   "metadata": {},
   "outputs": [
    {
     "data": {
      "text/plain": [
       "'1, 170, 6, 510, 22, 1, 85, 92, 23, 3, 1144, 20, 1, 730, 36, 72, 119, 4, 113, 131, 1921, 490, 170, 1, 6, 111, 613, 10, 1, 222, 2, 1016, 7, 2446, 11, 1, 28, 9, 4, 113, 131, 503, 39, 125, 10, 674, 272, 1502, 203, 118, 108, 13, 275, 281, 39, 19, 43, 48, 28, 19, 1221, 46, 13, 26, 4, 11, 4, 770, 3, 1221, 281, 62, 19, 148'"
      ]
     },
     "execution_count": 23,
     "metadata": {},
     "output_type": "execute_result"
    }
   ],
   "source": [
    "', '.join([str(i)for i in X[0]])"
   ]
  },
  {
   "cell_type": "code",
   "execution_count": 25,
   "metadata": {
    "collapsed": true
   },
   "outputs": [],
   "source": [
    "# pad_sequences?"
   ]
  },
  {
   "cell_type": "code",
   "execution_count": null,
   "metadata": {
    "collapsed": true
   },
   "outputs": [],
   "source": [
    "X = pad_sequences(X)"
   ]
  },
  {
   "cell_type": "code",
   "execution_count": 1,
   "metadata": {},
   "outputs": [
    {
     "ename": "NameError",
     "evalue": "name 'X' is not defined",
     "output_type": "error",
     "traceback": [
      "\u001b[0;31m---------------------------------------------------------------------------\u001b[0m",
      "\u001b[0;31mNameError\u001b[0m                                 Traceback (most recent call last)",
      "\u001b[0;32m<ipython-input-1-a0b703194835>\u001b[0m in \u001b[0;36m<module>\u001b[0;34m()\u001b[0m\n\u001b[0;32m----> 1\u001b[0;31m \u001b[0mX\u001b[0m\u001b[0;34m[\u001b[0m\u001b[0;34m:\u001b[0m\u001b[0;36m3\u001b[0m\u001b[0;34m]\u001b[0m\u001b[0;34m\u001b[0m\u001b[0m\n\u001b[0m",
      "\u001b[0;31mNameError\u001b[0m: name 'X' is not defined"
     ]
    }
   ],
   "source": [
    "X[:3]"
   ]
  },
  {
   "cell_type": "code",
   "execution_count": null,
   "metadata": {
    "collapsed": true
   },
   "outputs": [],
   "source": [
    "# Hyperparameteres\n",
    "EMBED_DIM = 128\n",
    "LSTM_OUT = 200\n",
    "batch_size = 32"
   ]
  },
  {
   "cell_type": "code",
   "execution_count": null,
   "metadata": {
    "collapsed": true
   },
   "outputs": [],
   "source": [
    "model = Sequential()\n",
    "model.add(Embedding(NUM_WORDS, EMBED_DIM, input_length = X.shape[1], dropout = 0.2))\n",
    "model.add(LSTM(LSTM_OUT, dropout_U = 0.2, dropout_W = 0.2))\n",
    "model.add(Dense(2, activation='softmax'))\n",
    "model.compile(loss = 'categorical_crossentropy', optimizer='adam', metrics = ['accuracy'])\n",
    "print(model.summary())"
   ]
  },
  {
   "cell_type": "code",
   "execution_count": null,
   "metadata": {
    "collapsed": true
   },
   "outputs": [],
   "source": [
    "Y = pd.get_dummies(data['sentiment']).values"
   ]
  },
  {
   "cell_type": "code",
   "execution_count": null,
   "metadata": {
    "collapsed": true
   },
   "outputs": [],
   "source": [
    "X_train, X_valid, Y_train, Y_valid = train_test_split(X, Y, test_size = 0.20, random_state = 36)"
   ]
  },
  {
   "cell_type": "code",
   "execution_count": null,
   "metadata": {
    "collapsed": true
   },
   "outputs": [],
   "source": [
    "model.fit(X_train, Y_train, batch_size = batch_size, nb_epoch = 1,  verbose = 5)"
   ]
  },
  {
   "cell_type": "code",
   "execution_count": null,
   "metadata": {
    "collapsed": true
   },
   "outputs": [],
   "source": [
    "test = 'This place was NOT great'"
   ]
  },
  {
   "cell_type": "code",
   "execution_count": null,
   "metadata": {
    "collapsed": true
   },
   "outputs": [],
   "source": [
    "test = 'Amazing restaurant'"
   ]
  },
  {
   "cell_type": "code",
   "execution_count": null,
   "metadata": {
    "collapsed": true
   },
   "outputs": [],
   "source": []
  },
  {
   "cell_type": "code",
   "execution_count": null,
   "metadata": {
    "collapsed": true
   },
   "outputs": [],
   "source": []
  },
  {
   "cell_type": "code",
   "execution_count": 39,
   "metadata": {},
   "outputs": [
    {
     "data": {
      "text/plain": [
       "0          The pizza was okay Not the best Ive had I pref...\n",
       "1          I love this place My fiance And I go here atle...\n",
       "2          Terrible Dry corn bread Rib tips were all fat ...\n",
       "3          Back in 20052007 this place was my FAVORITE th...\n",
       "4          Delicious healthy food The steak is amazing Fi...\n",
       "5          This place sucks The customer service is horri...\n",
       "6          If you like Thai food you have to try the orig...\n",
       "7          AMAZING\\n\\n I was referred here by a friend an...\n",
       "8          Ribs  amazing\\n2 hour wait time not so amazing...\n",
       "9          Food is pretty good not gonna lie BUT you have...\n",
       "10         I have been an Emerald Club member for a numbe...\n",
       "11         The score should be negative Its HORRIBLE The ...\n",
       "12         I went there twice and I am pretty happy with ...\n",
       "13         Great for the price only 25 for long hair Was ...\n",
       "14         Sansotei serves some top notch ramen They take...\n",
       "15         Of the several places to get bagels in Oakland...\n",
       "16         Cool little place nice atmosphere and staff Gr...\n",
       "17         Delicious friendly staff cool atmosphere all a...\n",
       "18         Great haircut cool atmosphere and really nice ...\n",
       "19         Finally After trying many Mexican restaurants ...\n",
       "20         One of the best breakfast places Ive been to T...\n",
       "21         Food was alright the service was HORRIBLE Both...\n",
       "22         DELICIOUS forgot to take a before picture but ...\n",
       "23         If I could leave zero stars I would This rude ...\n",
       "24         Removed several pine trees from our house in H...\n",
       "25         I have to write a review on the Fractured Prun...\n",
       "26         I wish i could tell you all about the food but...\n",
       "27         Wonderful One of my favorite places BBQ is exp...\n",
       "28         The price is about the same as Quizinos The sa...\n",
       "29         The food was ok You get a lot of food for the ...\n",
       "                                 ...                        \n",
       "5996966    Decent Eastside spot serving both Mediterranea...\n",
       "5996967    They have their new sign up so dont say you ca...\n",
       "5996968    Do you have any local beers \\nNo were not a Wi...\n",
       "5996969    New to the neighborhood and working my way dow...\n",
       "5996970    Time for an update\\n\\nIve warmed to this place...\n",
       "5996971    PNNH makes the grade Ive been here twice and t...\n",
       "5996972    Im new to the area staying with a friend in th...\n",
       "5996973    The SU was out of town it was cold and rather ...\n",
       "5996974    The SU and I were on our way home from the air...\n",
       "5996975    Food was delicious Loved the service of Eric A...\n",
       "5996976    This store has so many employees but only chec...\n",
       "5996977    Awesome service department Ivan is the best Fr...\n",
       "5996978    I absolutely recommend this place Me and my hu...\n",
       "5996979    Service here was terrible We are a party of 12...\n",
       "5996980    Delicious food with many healthy options to ch...\n",
       "5996981    I have never had a hair cut from the person wh...\n",
       "5996982    A few years back I visited the location on Law...\n",
       "5996983    On the plus side Excellent Thai food good flav...\n",
       "5996984    I brought my coworkers and boss here for a lig...\n",
       "5996985    I can never be mad at Kung Fu Tea because I lo...\n",
       "5996986    I had no problem with the health care but the ...\n",
       "5996987    I came in with a wedding dress a budget and a ...\n",
       "5996988    Good food for moderate prices I had a custom p...\n",
       "5996989    Me and my husband love this place We go here a...\n",
       "5996990    Food Amazing I had the Smoked Salmon Benedict ...\n",
       "5996991    I must admit i have had very bad experience he...\n",
       "5996992    Worst service experience in awhile I usually l...\n",
       "5996993    Loved the location the patio the service and e...\n",
       "5996994    I absolutely hate this place I would give it z...\n",
       "5996995    The first and the last time I will go there My...\n",
       "Name: text, Length: 5996996, dtype: object"
      ]
     },
     "execution_count": 39,
     "metadata": {},
     "output_type": "execute_result"
    }
   ],
   "source": [
    "data['text'].apply((lambda x: re.sub('[^a-zA-Z0-9\\s]', '', x)))"
   ]
  },
  {
   "cell_type": "code",
   "execution_count": null,
   "metadata": {
    "collapsed": true
   },
   "outputs": [],
   "source": []
  },
  {
   "cell_type": "code",
   "execution_count": null,
   "metadata": {
    "collapsed": true
   },
   "outputs": [],
   "source": []
  },
  {
   "cell_type": "code",
   "execution_count": null,
   "metadata": {
    "collapsed": true
   },
   "outputs": [],
   "source": []
  },
  {
   "cell_type": "code",
   "execution_count": 31,
   "metadata": {},
   "outputs": [
    {
     "name": "stdout",
     "output_type": "stream",
     "text": [
      "0 iCQpiavjjPzJ5_3gPD5Ebg\n"
     ]
    }
   ],
   "source": [
    "for idx, row in data.iterrows():\n",
    "    print idx, row[0]\n",
    "    break"
   ]
  },
  {
   "cell_type": "code",
   "execution_count": null,
   "metadata": {
    "collapsed": true
   },
   "outputs": [],
   "source": [
    "\n",
    "data['text'] = data['text'].apply((lambda x: re.sub('[^a-zA-Z0-9\\s]', '', x)))\n",
    "for idx,row in data.iterrows():\n",
    "    row[0] = row[0].replace('rt',' ')\n",
    "data['text'] = [x.encode('ascii') for x in data['text']]"
   ]
  },
  {
   "cell_type": "code",
   "execution_count": null,
   "metadata": {
    "collapsed": true
   },
   "outputs": [],
   "source": []
  },
  {
   "cell_type": "code",
   "execution_count": null,
   "metadata": {
    "collapsed": true
   },
   "outputs": [],
   "source": [
    "tokenizer = Tokenizer(nb_words=2500, lower=True, split=' ')\n",
    "tokenizer.fit_on_texts(data['text'].values)\n",
    "#print(tokenizer.word_index)  # To see the dicstionary\n",
    "X = tokenizer.texts_to_sequences(data['text'].values)\n",
    "X = pad_sequences(X)"
   ]
  },
  {
   "cell_type": "code",
   "execution_count": null,
   "metadata": {
    "collapsed": true
   },
   "outputs": [],
   "source": []
  },
  {
   "cell_type": "code",
   "execution_count": null,
   "metadata": {
    "collapsed": true
   },
   "outputs": [],
   "source": [
    "model = Sequential()\n",
    "model.add(Embedding(2500, embed_dim, input_length = X.shape[1], dropout = 0.2))\n",
    "model.add(LSTM(lstm_out, dropout_U = 0.2, dropout_W = 0.2))\n",
    "model.add(Dense(2,activation='softmax'))\n",
    "model.compile(loss = 'categorical_crossentropy', optimizer='adam', metrics = ['accuracy'])\n",
    "print(model.summary())"
   ]
  },
  {
   "cell_type": "code",
   "execution_count": null,
   "metadata": {
    "collapsed": true
   },
   "outputs": [],
   "source": [
    "Y = pd.get_dummies(data['sentiment']).values\n",
    "X_train, X_valid, Y_train, Y_valid = train_test_split(X, Y, test_size = 0.20, random_state = 36)\n",
    "\n",
    "#Here we train the Network.\n",
    "\n",
    "model.fit(X_train, Y_train, batch_size =batch_size, nb_epoch = 1,  verbose = 5)"
   ]
  }
 ],
 "metadata": {
  "kernelspec": {
   "display_name": "Python 2",
   "language": "python",
   "name": "python2"
  },
  "language_info": {
   "codemirror_mode": {
    "name": "ipython",
    "version": 2
   },
   "file_extension": ".py",
   "mimetype": "text/x-python",
   "name": "python",
   "nbconvert_exporter": "python",
   "pygments_lexer": "ipython2",
   "version": "2.7.14"
  }
 },
 "nbformat": 4,
 "nbformat_minor": 2
}
